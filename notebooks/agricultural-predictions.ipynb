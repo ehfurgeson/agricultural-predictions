{
 "cells": [
  {
   "cell_type": "markdown",
   "metadata": {},
   "source": [
    "agricultural predictions"
   ]
  },
  {
   "cell_type": "markdown",
   "metadata": {},
   "source": [
    "using the NASA POWER project data for historical weather data"
   ]
  },
  {
   "cell_type": "code",
   "execution_count": 1,
   "metadata": {},
   "outputs": [
    {
     "name": "stdout",
     "output_type": "stream",
     "text": [
      "           T2M      PS  WS10M\n",
      "20200101  2.77  100.75   7.42\n",
      "20200102  4.67  101.25   5.45\n",
      "20200103  7.05  100.88   3.30\n",
      "20200104  7.83  100.27   3.63\n",
      "20200105  3.59  100.94   8.99\n"
     ]
    }
   ],
   "source": [
    "import requests\n",
    "import pandas as pd\n",
    "\n",
    "# Example of downloading daily solar and meteorological data\n",
    "url = \"https://power.larc.nasa.gov/api/temporal/daily/point?parameters=T2M,PS,WS10M&community=RE&longitude=-74.0060&latitude=40.7128&start=20200101&end=20201231&format=JSON\"\n",
    "\n",
    "response = requests.get(url)\n",
    "data = response.json()['properties']['parameter']\n",
    "\n",
    "# Convert to DataFrame\n",
    "df = pd.DataFrame(data)\n",
    "print(df.head())"
   ]
  },
  {
   "cell_type": "markdown",
   "metadata": {},
   "source": [
    "also could use meteostat"
   ]
  },
  {
   "cell_type": "code",
   "execution_count": 2,
   "metadata": {},
   "outputs": [
    {
     "name": "stderr",
     "output_type": "stream",
     "text": [
      "FutureWarning: Support for nested sequences for 'parse_dates' in pd.read_csv is deprecated. Combine the desired columns with pd.to_datetime after parsing instead.\n",
      "FutureWarning: Support for nested sequences for 'parse_dates' in pd.read_csv is deprecated. Combine the desired columns with pd.to_datetime after parsing instead.\n",
      "FutureWarning: Support for nested sequences for 'parse_dates' in pd.read_csv is deprecated. Combine the desired columns with pd.to_datetime after parsing instead.\n",
      "FutureWarning: Support for nested sequences for 'parse_dates' in pd.read_csv is deprecated. Combine the desired columns with pd.to_datetime after parsing instead.\n"
     ]
    },
    {
     "name": "stdout",
     "output_type": "stream",
     "text": [
      "            tavg  tmin  tmax  prcp  snow   wdir  wspd  wpgt    pres  tsun\n",
      "time                                                                     \n",
      "2020-01-01   3.6   1.7   5.0   0.0   0.0  264.0  17.3   NaN  1008.2   NaN\n",
      "2020-01-02   4.7   0.6   8.9   0.0   0.0  218.0  12.4   NaN  1013.9   NaN\n",
      "2020-01-03   7.6   6.7   8.3   2.8   0.0  257.0   8.4   NaN  1010.2   NaN\n",
      "2020-01-04   8.2   6.7   9.4   5.3   0.0  325.0   5.7   NaN  1003.7   NaN\n",
      "2020-01-05   4.6   2.8   7.2   0.0   0.0  300.0   8.2   NaN  1010.1   NaN\n"
     ]
    }
   ],
   "source": [
    "import pandas as pd\n",
    "from meteostat import Point, Daily\n",
    "from datetime import datetime\n",
    "\n",
    "# Define location and time period\n",
    "location = Point(40.7128, -74.0060)  # New York City just as an example placeholder\n",
    "start = datetime(2020, 1, 1)\n",
    "end = datetime(2020, 12, 31)\n",
    "\n",
    "# Fetch daily weather data\n",
    "data = Daily(location, start, end)\n",
    "data = data.fetch()\n",
    "\n",
    "# Display the data\n",
    "print(data.head())"
   ]
  },
  {
   "cell_type": "markdown",
   "metadata": {},
   "source": [
    "or NOAA's GHCN data via direct download, but this is very large and would require some filtering, so I am not going to do that here"
   ]
  },
  {
   "cell_type": "code",
   "execution_count": 3,
   "metadata": {},
   "outputs": [],
   "source": [
    "# import pandas as pd\n",
    "\n",
    "# Download the data (example: year 2020, GHCN daily data)\n",
    "# url = 'https://www1.ncdc.noaa.gov/pub/data/ghcn/daily/by_year/2020.csv.gz'\n",
    "# df = pd.read_csv(url, compression='gzip', header=None)\n",
    "\n",
    "# Display the first few rows\n",
    "# print(df.head())"
   ]
  },
  {
   "cell_type": "markdown",
   "metadata": {},
   "source": [
    "Long-term Climate Patterns and Anomalies\n",
    "\n",
    "The climdata package provides access to various climate datasets"
   ]
  },
  {
   "cell_type": "code",
   "execution_count": 15,
   "metadata": {},
   "outputs": [],
   "source": [
    "### *** find one that does not need an api token *** ###\n",
    "\n",
    "# import pandas as pd\n",
    "# import requests\n",
    "\n",
    "# Example to fetch NOAA Climate Data\n",
    "# climate_url = \"https://www.ncdc.noaa.gov/cdo-web/api/v2/data\"\n",
    "# headers = {'token': 'your_noaa_api_token'}\n",
    "# params = {\n",
    "#     'datasetid': 'GHCND',\n",
    "#     'locationid': 'CITY:US360019',  # Example: New York City\n",
    "#     'startdate': '2020-01-01',\n",
    "#     'enddate': '2020-12-31',\n",
    "#     'limit': 1000\n",
    "# }\n",
    "\n",
    "# response = requests.get(climate_url, headers=headers, params=params)\n",
    "# climate_data = response.json()\n",
    "\n",
    "# climate_df = pd.DataFrame(climate_data['results'])"
   ]
  },
  {
   "cell_type": "markdown",
   "metadata": {},
   "source": [
    "Satellite Imagery: Remote Sensing Data\n",
    "\n",
    "You can use the rasterio package for handling satellite imagery data, often available from sources like Google Earth Engine or NASA"
   ]
  },
  {
   "cell_type": "code",
   "execution_count": 16,
   "metadata": {},
   "outputs": [],
   "source": [
    "### *** need an actual data source for satellite imagery *** ###\n",
    "\n",
    "# import rasterio\n",
    "# from rasterio.plot import show\n",
    "# import matplotlib.pyplot as plt\n",
    "\n",
    "# Load a sample satellite image\n",
    "# file_path = '/path/to/your/satellite_image.tif'  # need an actual data source for satellite imagery\n",
    "# with rasterio.open(file_path) as src:\n",
    "#     satellite_image = src.read()\n",
    "\n",
    "# Display the image\n",
    "# show(satellite_image, cmap='terrain')\n",
    "# plt.show()"
   ]
  },
  {
   "cell_type": "markdown",
   "metadata": {},
   "source": [
    "Pest Population Data\n",
    "\n",
    "Pest population data can be obtained from various APIs or datasets provided by agricultural organizations"
   ]
  },
  {
   "cell_type": "code",
   "execution_count": 17,
   "metadata": {},
   "outputs": [],
   "source": [
    "### *** need an actual data source for pest levels *** ###\n",
    "\n",
    "# import pandas as pd\n",
    "\n",
    "# Example data source: CSV file with pest levels\n",
    "# pest_data_url = \"https://example.com/pest_levels.csv\" # need an actual data source for pest levels\n",
    "# pest_data = pd.read_csv(pest_data_url)\n",
    "\n",
    "# Preview the data\n",
    "# print(pest_data.head())"
   ]
  },
  {
   "cell_type": "markdown",
   "metadata": {},
   "source": [
    "Lunar Phases\n",
    "\n",
    "The ephem library is great for astronomical calculations, including the phases of the moon"
   ]
  },
  {
   "cell_type": "code",
   "execution_count": 8,
   "metadata": {},
   "outputs": [
    {
     "name": "stdout",
     "output_type": "stream",
     "text": [
      "        Date  Moon Phase\n",
      "0 2023-01-01   69.924530\n",
      "1 2023-01-02   78.708054\n",
      "2 2023-01-03   86.179222\n",
      "3 2023-01-04   92.144234\n",
      "4 2023-01-05   96.462013\n"
     ]
    }
   ],
   "source": [
    "import ephem\n",
    "import pandas as pd\n",
    "\n",
    "# Create a list of dates\n",
    "dates = pd.date_range(start='2023-01-01', end='2023-12-31')\n",
    "\n",
    "# Calculate moon phases for each date\n",
    "moon_phases = []\n",
    "for date in dates:\n",
    "    moon = ephem.Moon(date)\n",
    "    moon_phases.append((date, moon.phase))\n",
    "\n",
    "moon_df = pd.DataFrame(moon_phases, columns=['Date', 'Moon Phase'])\n",
    "print(moon_df.head())"
   ]
  },
  {
   "cell_type": "markdown",
   "metadata": {},
   "source": [
    "Historical Prices and Economic Indicators\n",
    "\n",
    "You can use APIs like yfinance for financial data or download datasets from sources like Quandl"
   ]
  },
  {
   "cell_type": "code",
   "execution_count": 9,
   "metadata": {},
   "outputs": [
    {
     "name": "stderr",
     "output_type": "stream",
     "text": [
      "[*********************100%***********************]  1 of 1 completed"
     ]
    },
    {
     "name": "stdout",
     "output_type": "stream",
     "text": [
      "              Open    High     Low   Close  Adj Close  Volume\n",
      "Date                                                         \n",
      "2020-01-02  387.75  392.00  387.25  391.50     391.50  103987\n",
      "2020-01-03  391.50  392.00  385.50  386.50     386.50  125931\n",
      "2020-01-06  386.25  387.75  382.75  384.75     384.75  112130\n",
      "2020-01-07  385.00  385.75  383.50  384.50     384.50   93541\n",
      "2020-01-08  384.00  385.50  382.25  384.25     384.25  135523\n"
     ]
    },
    {
     "name": "stderr",
     "output_type": "stream",
     "text": [
      "\n"
     ]
    }
   ],
   "source": [
    "import yfinance as yf\n",
    "import pandas as pd\n",
    "\n",
    "# Fetch historical market data for a commodity (e.g., Corn)\n",
    "commodity = 'ZC=F'  # Corn Futures symbol\n",
    "market_data = yf.download(commodity, start='2020-01-01', end='2023-12-31')\n",
    "\n",
    "# Display the data\n",
    "print(market_data.head())"
   ]
  },
  {
   "cell_type": "markdown",
   "metadata": {},
   "source": [
    "For now that is all the data gathering we will do"
   ]
  },
  {
   "cell_type": "code",
   "execution_count": 19,
   "metadata": {},
   "outputs": [],
   "source": [
    "# write all current dataframes to csv files, and put them in the data folder which sits next to the notebooks folder that this code is within\n",
    "df.to_csv('../data/solar_meteorological_data.csv', index=False)\n",
    "data.to_csv('../data/daily_weather_data.csv', index=False)\n",
    "moon_df.to_csv('../data/moon_phases.csv', index=False)\n",
    "market_data.to_csv('../data/commodity_market_data.csv', index=False)"
   ]
  },
  {
   "cell_type": "markdown",
   "metadata": {},
   "source": [
    "it seems a lot of the data is missing dates, except the moon data, this will be my next things to work on"
   ]
  }
 ],
 "metadata": {
  "kernelspec": {
   "display_name": ".venv",
   "language": "python",
   "name": "python3"
  },
  "language_info": {
   "codemirror_mode": {
    "name": "ipython",
    "version": 3
   },
   "file_extension": ".py",
   "mimetype": "text/x-python",
   "name": "python",
   "nbconvert_exporter": "python",
   "pygments_lexer": "ipython3",
   "version": "3.12.5"
  }
 },
 "nbformat": 4,
 "nbformat_minor": 2
}
